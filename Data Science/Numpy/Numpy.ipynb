{
  "nbformat": 4,
  "nbformat_minor": 0,
  "metadata": {
    "colab": {
      "provenance": []
    },
    "kernelspec": {
      "name": "python3",
      "display_name": "Python 3"
    },
    "language_info": {
      "name": "python"
    }
  },
  "cells": [
    {
      "cell_type": "markdown",
      "source": [
        "#**Data Structure Conversion**"
      ],
      "metadata": {
        "id": "zxigdpG31YND"
      }
    },
    {
      "cell_type": "code",
      "execution_count": null,
      "metadata": {
        "id": "umm3wL-N3hH-"
      },
      "outputs": [],
      "source": [
        "import numpy as np\n"
      ]
    },
    {
      "cell_type": "markdown",
      "source": [
        "### 1) List to array"
      ],
      "metadata": {
        "id": "x0OInwGp15DJ"
      }
    },
    {
      "cell_type": "code",
      "source": [
        "kaviya=[\"Chennai\",21,9864457660]\n",
        "type(kaviya)"
      ],
      "metadata": {
        "id": "xWD1sNW63qpw",
        "colab": {
          "base_uri": "https://localhost:8080/"
        },
        "outputId": "0a001bf9-5e20-4425-8bc6-a106ce5103c6"
      },
      "execution_count": null,
      "outputs": [
        {
          "output_type": "execute_result",
          "data": {
            "text/plain": [
              "list"
            ]
          },
          "metadata": {},
          "execution_count": 19
        }
      ]
    },
    {
      "cell_type": "code",
      "source": [
        "kaviya_arr=np.array(kaviya)\n",
        "type(kaviya_arr)"
      ],
      "metadata": {
        "colab": {
          "base_uri": "https://localhost:8080/"
        },
        "id": "3Nto01t71_sw",
        "outputId": "18ab51e7-26a5-4421-da15-b868a0d37ed7"
      },
      "execution_count": null,
      "outputs": [
        {
          "output_type": "execute_result",
          "data": {
            "text/plain": [
              "numpy.ndarray"
            ]
          },
          "metadata": {},
          "execution_count": 22
        }
      ]
    },
    {
      "cell_type": "markdown",
      "source": [
        "### 2) Tuple to array"
      ],
      "metadata": {
        "id": "f68bAsRd2Irj"
      }
    },
    {
      "cell_type": "code",
      "source": [
        "k=(\"Chennai\",21,9864457660)\n",
        "type(k)"
      ],
      "metadata": {
        "colab": {
          "base_uri": "https://localhost:8080/"
        },
        "id": "ftqxKm4H1quS",
        "outputId": "90a8e432-0776-48bd-dbca-91cb51e904c4"
      },
      "execution_count": null,
      "outputs": [
        {
          "output_type": "execute_result",
          "data": {
            "text/plain": [
              "tuple"
            ]
          },
          "metadata": {},
          "execution_count": 23
        }
      ]
    },
    {
      "cell_type": "code",
      "source": [
        "k_arr=np.array(k)"
      ],
      "metadata": {
        "id": "jbx8sGTo4Xt_"
      },
      "execution_count": null,
      "outputs": []
    },
    {
      "cell_type": "code",
      "source": [
        "type(k_arr)"
      ],
      "metadata": {
        "colab": {
          "base_uri": "https://localhost:8080/"
        },
        "id": "JiOVag0P4bqr",
        "outputId": "549e00cd-1d27-4f03-a012-78896fe99a7d"
      },
      "execution_count": null,
      "outputs": [
        {
          "output_type": "execute_result",
          "data": {
            "text/plain": [
              "numpy.ndarray"
            ]
          },
          "metadata": {},
          "execution_count": 4
        }
      ]
    },
    {
      "cell_type": "markdown",
      "source": [
        "### 3) Dict to array"
      ],
      "metadata": {
        "id": "5x6StZKi09Bq"
      }
    },
    {
      "cell_type": "code",
      "source": [
        "dict={\"a\":\"chennai\",\"b\":21}\n",
        "type(dict)"
      ],
      "metadata": {
        "id": "uWr0TTSz4e0o",
        "colab": {
          "base_uri": "https://localhost:8080/"
        },
        "outputId": "e9ebe817-32d9-4c76-f6cc-f3e9a5d70798"
      },
      "execution_count": null,
      "outputs": [
        {
          "output_type": "execute_result",
          "data": {
            "text/plain": [
              "dict"
            ]
          },
          "metadata": {},
          "execution_count": 24
        }
      ]
    },
    {
      "cell_type": "code",
      "source": [
        "dict_arr=np.array(dict)"
      ],
      "metadata": {
        "id": "zXR_0Jwx4twZ"
      },
      "execution_count": null,
      "outputs": []
    },
    {
      "cell_type": "code",
      "source": [
        "type(dict_arr)"
      ],
      "metadata": {
        "colab": {
          "base_uri": "https://localhost:8080/"
        },
        "id": "sKHMrkxG45Sf",
        "outputId": "a4f94573-8f56-42e3-e2c5-1bb17f964892"
      },
      "execution_count": null,
      "outputs": [
        {
          "output_type": "execute_result",
          "data": {
            "text/plain": [
              "numpy.ndarray"
            ]
          },
          "metadata": {},
          "execution_count": 7
        }
      ]
    },
    {
      "cell_type": "markdown",
      "source": [
        "### 4) Set to array"
      ],
      "metadata": {
        "id": "2CZn_8Kv2w7X"
      }
    },
    {
      "cell_type": "code",
      "source": [
        "s={8,9,0,6,9,9}\n",
        "type(s)\n"
      ],
      "metadata": {
        "colab": {
          "base_uri": "https://localhost:8080/"
        },
        "id": "0XlNkmw_47Ww",
        "outputId": "fad9ff00-6707-4ae2-e580-33d28746388f"
      },
      "execution_count": null,
      "outputs": [
        {
          "output_type": "execute_result",
          "data": {
            "text/plain": [
              "set"
            ]
          },
          "metadata": {},
          "execution_count": 25
        }
      ]
    },
    {
      "cell_type": "code",
      "source": [
        "s_arr=np.array(s)\n",
        "type(s_arr)"
      ],
      "metadata": {
        "colab": {
          "base_uri": "https://localhost:8080/"
        },
        "id": "745MVphG5Hvv",
        "outputId": "702eab54-7d81-4c85-d32b-1167741ab618"
      },
      "execution_count": null,
      "outputs": [
        {
          "output_type": "execute_result",
          "data": {
            "text/plain": [
              "numpy.ndarray"
            ]
          },
          "metadata": {},
          "execution_count": 26
        }
      ]
    },
    {
      "cell_type": "markdown",
      "source": [
        "### **Using Numpy Function**"
      ],
      "metadata": {
        "id": "740D9F8m3Drn"
      }
    },
    {
      "cell_type": "code",
      "source": [
        "a=np.array([5,6,7,8,9])\n",
        "b=np.array([3,4,2,1,12])"
      ],
      "metadata": {
        "id": "UHujNf0K5R1A"
      },
      "execution_count": null,
      "outputs": []
    },
    {
      "cell_type": "code",
      "source": [
        "\n",
        "a+b"
      ],
      "metadata": {
        "colab": {
          "base_uri": "https://localhost:8080/"
        },
        "id": "aPy7Cqh_7nQc",
        "outputId": "8c93f98b-e202-46db-8eb1-be04540800f2"
      },
      "execution_count": null,
      "outputs": [
        {
          "output_type": "execute_result",
          "data": {
            "text/plain": [
              "array([ 8, 10,  9,  9, 21])"
            ]
          },
          "metadata": {},
          "execution_count": 28
        }
      ]
    },
    {
      "cell_type": "code",
      "source": [
        "c=np.concatenate([a,b])\n",
        "c"
      ],
      "metadata": {
        "colab": {
          "base_uri": "https://localhost:8080/"
        },
        "id": "FAdrmZqB7xYw",
        "outputId": "2e4b0a8a-379e-4e6a-bdd2-508f4c208e49"
      },
      "execution_count": null,
      "outputs": [
        {
          "output_type": "execute_result",
          "data": {
            "text/plain": [
              "array([ 5,  6,  7,  8,  9,  3,  4,  2,  1, 12])"
            ]
          },
          "metadata": {},
          "execution_count": 12
        }
      ]
    },
    {
      "cell_type": "code",
      "source": [
        "cc=np.append(a,b)\n",
        "cc"
      ],
      "metadata": {
        "colab": {
          "base_uri": "https://localhost:8080/"
        },
        "id": "LH4_4pF791Yq",
        "outputId": "e519c4da-4dbe-4533-88e1-df9e41969201"
      },
      "execution_count": null,
      "outputs": [
        {
          "output_type": "execute_result",
          "data": {
            "text/plain": [
              "array([ 5,  6,  7,  8,  9,  3,  4,  2,  1, 12])"
            ]
          },
          "metadata": {},
          "execution_count": 13
        }
      ]
    },
    {
      "cell_type": "code",
      "source": [
        "d=np.vstack([a,b])\n",
        "d"
      ],
      "metadata": {
        "colab": {
          "base_uri": "https://localhost:8080/"
        },
        "id": "Tj30H4oR8t1q",
        "outputId": "4df37403-6303-4b87-9a4f-30f0558c1648"
      },
      "execution_count": null,
      "outputs": [
        {
          "output_type": "execute_result",
          "data": {
            "text/plain": [
              "array([[ 5,  6,  7,  8,  9],\n",
              "       [ 3,  4,  2,  1, 12]])"
            ]
          },
          "metadata": {},
          "execution_count": 14
        }
      ]
    },
    {
      "cell_type": "code",
      "source": [
        "e=np.hstack([a,b])\n",
        "e"
      ],
      "metadata": {
        "colab": {
          "base_uri": "https://localhost:8080/"
        },
        "id": "RlGV22o-9WAp",
        "outputId": "1d01914b-4f22-4f75-8100-c41befb5dbc7"
      },
      "execution_count": null,
      "outputs": [
        {
          "output_type": "execute_result",
          "data": {
            "text/plain": [
              "array([ 5,  6,  7,  8,  9,  3,  4,  2,  1, 12])"
            ]
          },
          "metadata": {},
          "execution_count": 15
        }
      ]
    },
    {
      "cell_type": "code",
      "source": [
        "t=np.transpose([a,b])\n",
        "t"
      ],
      "metadata": {
        "colab": {
          "base_uri": "https://localhost:8080/"
        },
        "id": "51zQ2FzQ3Rx9",
        "outputId": "29babe95-c153-40de-b2f9-63826b158d24"
      },
      "execution_count": null,
      "outputs": [
        {
          "output_type": "execute_result",
          "data": {
            "text/plain": [
              "array([[ 5,  3],\n",
              "       [ 6,  4],\n",
              "       [ 7,  2],\n",
              "       [ 8,  1],\n",
              "       [ 9, 12]])"
            ]
          },
          "metadata": {},
          "execution_count": 29
        }
      ]
    },
    {
      "cell_type": "code",
      "source": [
        "s=np.array([[2,4,6],[3,5,8],[8,7,5]])\n",
        "s"
      ],
      "metadata": {
        "colab": {
          "base_uri": "https://localhost:8080/"
        },
        "id": "w_HwPehfF1Q3",
        "outputId": "9f23be72-c2db-45b9-88af-e94497fbf430"
      },
      "execution_count": null,
      "outputs": [
        {
          "output_type": "execute_result",
          "data": {
            "text/plain": [
              "array([[2, 4, 6],\n",
              "       [3, 5, 8],\n",
              "       [8, 7, 5]])"
            ]
          },
          "metadata": {},
          "execution_count": 30
        }
      ]
    },
    {
      "cell_type": "code",
      "source": [
        "s.ndim"
      ],
      "metadata": {
        "colab": {
          "base_uri": "https://localhost:8080/"
        },
        "id": "aJDkd0Rr3ceA",
        "outputId": "4f5cbc12-1b42-4716-b40b-cb759ec86a67"
      },
      "execution_count": null,
      "outputs": [
        {
          "output_type": "execute_result",
          "data": {
            "text/plain": [
              "2"
            ]
          },
          "metadata": {},
          "execution_count": 31
        }
      ]
    },
    {
      "cell_type": "code",
      "source": [
        "s.shape"
      ],
      "metadata": {
        "colab": {
          "base_uri": "https://localhost:8080/"
        },
        "id": "K2jQxn7O3e0n",
        "outputId": "00672507-b9ae-44da-929d-bb040acaf65f"
      },
      "execution_count": null,
      "outputs": [
        {
          "output_type": "execute_result",
          "data": {
            "text/plain": [
              "(3, 3)"
            ]
          },
          "metadata": {},
          "execution_count": 32
        }
      ]
    },
    {
      "cell_type": "code",
      "source": [
        "s.reshape(9,1)"
      ],
      "metadata": {
        "colab": {
          "base_uri": "https://localhost:8080/"
        },
        "id": "oNTeLLX_3gi_",
        "outputId": "e3d34769-45ed-4314-a350-d689ea4aec21"
      },
      "execution_count": null,
      "outputs": [
        {
          "output_type": "execute_result",
          "data": {
            "text/plain": [
              "array([[2],\n",
              "       [4],\n",
              "       [6],\n",
              "       [3],\n",
              "       [5],\n",
              "       [8],\n",
              "       [8],\n",
              "       [7],\n",
              "       [5]])"
            ]
          },
          "metadata": {},
          "execution_count": 36
        }
      ]
    },
    {
      "cell_type": "markdown",
      "source": [
        "### Array Boardcasting  (arithmetic operation)"
      ],
      "metadata": {
        "id": "Qs2t9RG93tOX"
      }
    },
    {
      "cell_type": "code",
      "source": [
        "s.sum()"
      ],
      "metadata": {
        "id": "DCiLZBiJ_iIS",
        "colab": {
          "base_uri": "https://localhost:8080/"
        },
        "outputId": "9a00d515-2b93-44d9-a4c0-dc5c421b6410"
      },
      "execution_count": null,
      "outputs": [
        {
          "output_type": "execute_result",
          "data": {
            "text/plain": [
              "48"
            ]
          },
          "metadata": {},
          "execution_count": 38
        }
      ]
    },
    {
      "cell_type": "code",
      "source": [
        "s.min()"
      ],
      "metadata": {
        "colab": {
          "base_uri": "https://localhost:8080/"
        },
        "id": "xSlb1Y0Y31Xf",
        "outputId": "5484b4a4-f722-4c4b-eaa2-4f60a03aec3e"
      },
      "execution_count": null,
      "outputs": [
        {
          "output_type": "execute_result",
          "data": {
            "text/plain": [
              "2"
            ]
          },
          "metadata": {},
          "execution_count": 39
        }
      ]
    },
    {
      "cell_type": "code",
      "source": [
        "s.max()"
      ],
      "metadata": {
        "colab": {
          "base_uri": "https://localhost:8080/"
        },
        "id": "0fvIRKST356h",
        "outputId": "b6503177-b5c2-4370-edc7-ef54a3af3762"
      },
      "execution_count": null,
      "outputs": [
        {
          "output_type": "execute_result",
          "data": {
            "text/plain": [
              "8"
            ]
          },
          "metadata": {},
          "execution_count": 40
        }
      ]
    },
    {
      "cell_type": "code",
      "source": [
        "s.mean()         # In list mode and meadian function are not possible"
      ],
      "metadata": {
        "colab": {
          "base_uri": "https://localhost:8080/"
        },
        "id": "k7jjW0jv354i",
        "outputId": "d97cd381-9f6f-4f20-ec3a-6169a497b416"
      },
      "execution_count": null,
      "outputs": [
        {
          "output_type": "execute_result",
          "data": {
            "text/plain": [
              "5.333333333333333"
            ]
          },
          "metadata": {},
          "execution_count": 41
        }
      ]
    },
    {
      "cell_type": "code",
      "source": [
        "s.cumsum()       #cumlative frequency"
      ],
      "metadata": {
        "colab": {
          "base_uri": "https://localhost:8080/"
        },
        "id": "crQwCxbR35qJ",
        "outputId": "898de870-a782-4e7c-e91d-a2220e14acea"
      },
      "execution_count": null,
      "outputs": [
        {
          "output_type": "execute_result",
          "data": {
            "text/plain": [
              "array([ 2,  6, 12, 15, 20, 28, 36, 43, 48])"
            ]
          },
          "metadata": {},
          "execution_count": 42
        }
      ]
    },
    {
      "cell_type": "code",
      "source": [
        "arr_s=np.arange(1,100,2)\n",
        "arr_s\n"
      ],
      "metadata": {
        "colab": {
          "base_uri": "https://localhost:8080/"
        },
        "id": "Gk7Adala_rX1",
        "outputId": "569c8318-2145-4998-b67e-422b309e7b2d"
      },
      "execution_count": null,
      "outputs": [
        {
          "output_type": "execute_result",
          "data": {
            "text/plain": [
              "array([ 1,  3,  5,  7,  9, 11, 13, 15, 17, 19, 21, 23, 25, 27, 29, 31, 33,\n",
              "       35, 37, 39, 41, 43, 45, 47, 49, 51, 53, 55, 57, 59, 61, 63, 65, 67,\n",
              "       69, 71, 73, 75, 77, 79, 81, 83, 85, 87, 89, 91, 93, 95, 97, 99])"
            ]
          },
          "metadata": {},
          "execution_count": 43
        }
      ]
    },
    {
      "cell_type": "markdown",
      "source": [
        "###Dimensionality changes"
      ],
      "metadata": {
        "id": "eyd1j6Iw4YqD"
      }
    },
    {
      "cell_type": "code",
      "source": [
        "s"
      ],
      "metadata": {
        "colab": {
          "base_uri": "https://localhost:8080/"
        },
        "id": "Cv9x5m9H4iD7",
        "outputId": "449e3508-90fd-44a1-cb81-0084d0445153"
      },
      "execution_count": null,
      "outputs": [
        {
          "output_type": "execute_result",
          "data": {
            "text/plain": [
              "array([[2, 4, 6],\n",
              "       [3, 5, 8],\n",
              "       [8, 7, 5]])"
            ]
          },
          "metadata": {},
          "execution_count": 44
        }
      ]
    },
    {
      "cell_type": "code",
      "source": [
        "s.ndim"
      ],
      "metadata": {
        "colab": {
          "base_uri": "https://localhost:8080/"
        },
        "id": "gFxTHSmJ4nTs",
        "outputId": "26fde5b3-c9fa-42fd-cb90-f6d4d3254de4"
      },
      "execution_count": null,
      "outputs": [
        {
          "output_type": "execute_result",
          "data": {
            "text/plain": [
              "2"
            ]
          },
          "metadata": {},
          "execution_count": 45
        }
      ]
    },
    {
      "cell_type": "markdown",
      "source": [
        "###Flatten()--- use to break the dimensionality eg: 2D-1D"
      ],
      "metadata": {
        "id": "wC3jYfhI41vL"
      }
    },
    {
      "cell_type": "code",
      "source": [
        "s_flat=s.flatten()\n",
        "s_flat"
      ],
      "metadata": {
        "colab": {
          "base_uri": "https://localhost:8080/"
        },
        "id": "2lrg36Ub4nLX",
        "outputId": "2c488b3f-744c-4013-d608-274c5543eb53"
      },
      "execution_count": null,
      "outputs": [
        {
          "output_type": "execute_result",
          "data": {
            "text/plain": [
              "array([2, 4, 6, 3, 5, 8, 8, 7, 5])"
            ]
          },
          "metadata": {},
          "execution_count": 46
        }
      ]
    },
    {
      "cell_type": "code",
      "source": [
        "s_flat.ndim"
      ],
      "metadata": {
        "colab": {
          "base_uri": "https://localhost:8080/"
        },
        "id": "F8_Ow8ge5Klh",
        "outputId": "a259f5f0-8e8d-436f-d5e8-bf123e7820ed"
      },
      "execution_count": null,
      "outputs": [
        {
          "output_type": "execute_result",
          "data": {
            "text/plain": [
              "1"
            ]
          },
          "metadata": {},
          "execution_count": 48
        }
      ]
    },
    {
      "cell_type": "markdown",
      "source": [
        "###Ravel()--- use to break highn dimensionality into single eg: 3D,4d..-1D"
      ],
      "metadata": {
        "id": "sx6ZQ14p5UgD"
      }
    },
    {
      "cell_type": "code",
      "source": [
        "s_ravel=s.ravel()\n",
        "s_ravel"
      ],
      "metadata": {
        "colab": {
          "base_uri": "https://localhost:8080/"
        },
        "id": "plkkg_mw4mne",
        "outputId": "fae4ebe9-e0fb-4386-8bfa-8a1d76155754"
      },
      "execution_count": null,
      "outputs": [
        {
          "output_type": "execute_result",
          "data": {
            "text/plain": [
              "array([2, 4, 6, 3, 5, 8, 8, 7, 5])"
            ]
          },
          "metadata": {},
          "execution_count": 47
        }
      ]
    },
    {
      "cell_type": "code",
      "source": [
        "s_ravel.ndim"
      ],
      "metadata": {
        "colab": {
          "base_uri": "https://localhost:8080/"
        },
        "id": "KzvxfI9L5Ntj",
        "outputId": "c2b97284-8e1f-4712-9acf-bbede6db2e91"
      },
      "execution_count": null,
      "outputs": [
        {
          "output_type": "execute_result",
          "data": {
            "text/plain": [
              "1"
            ]
          },
          "metadata": {},
          "execution_count": 49
        }
      ]
    },
    {
      "cell_type": "markdown",
      "source": [
        "### Creating various kind of array"
      ],
      "metadata": {
        "id": "IkNw1Y7o5tGl"
      }
    },
    {
      "cell_type": "code",
      "source": [
        "emp_arr=np.empty((5,3))"
      ],
      "metadata": {
        "id": "umuxmF2gFe6o"
      },
      "execution_count": null,
      "outputs": []
    },
    {
      "cell_type": "code",
      "source": [
        "emp_arr"
      ],
      "metadata": {
        "colab": {
          "base_uri": "https://localhost:8080/"
        },
        "id": "7WzFO8P9GOZY",
        "outputId": "e8553f2f-47af-4088-d15b-3f20a98ead6e"
      },
      "execution_count": null,
      "outputs": [
        {
          "output_type": "execute_result",
          "data": {
            "text/plain": [
              "array([[5.05389801e-310, 0.00000000e+000, 0.00000000e+000],\n",
              "       [0.00000000e+000, 9.48700996e+170, 1.16095484e-028],\n",
              "       [1.10121846e-012, 1.69201561e+190, 7.57881487e-096],\n",
              "       [6.03835792e+151, 1.46899930e+179, 9.08367237e+223],\n",
              "       [1.16466228e-028, 9.90942922e+170, 6.32404027e-322]])"
            ]
          },
          "metadata": {},
          "execution_count": 80
        }
      ]
    },
    {
      "cell_type": "code",
      "source": [
        "a=[]\n",
        "type(a)"
      ],
      "metadata": {
        "colab": {
          "base_uri": "https://localhost:8080/"
        },
        "id": "bdANCL6S5496",
        "outputId": "37a92e2b-087e-43d6-c4ef-ddbe51777514"
      },
      "execution_count": null,
      "outputs": [
        {
          "output_type": "execute_result",
          "data": {
            "text/plain": [
              "list"
            ]
          },
          "metadata": {},
          "execution_count": 50
        }
      ]
    },
    {
      "cell_type": "code",
      "source": [
        "b=np.array(a)\n",
        "b"
      ],
      "metadata": {
        "colab": {
          "base_uri": "https://localhost:8080/"
        },
        "id": "bekPFP-6548W",
        "outputId": "f6c319d9-ff77-49bd-813b-a48b2a7da3ba"
      },
      "execution_count": null,
      "outputs": [
        {
          "output_type": "execute_result",
          "data": {
            "text/plain": [
              "array([], dtype=float64)"
            ]
          },
          "metadata": {},
          "execution_count": 52
        }
      ]
    },
    {
      "cell_type": "code",
      "source": [
        "g=np.empty(b)\n",
        "g"
      ],
      "metadata": {
        "colab": {
          "base_uri": "https://localhost:8080/"
        },
        "id": "GvceDCQB544v",
        "outputId": "8feb89f1-1cd4-49e8-e39b-1a5a0d28ce4a"
      },
      "execution_count": null,
      "outputs": [
        {
          "output_type": "execute_result",
          "data": {
            "text/plain": [
              "array(4.68058668e-310)"
            ]
          },
          "metadata": {},
          "execution_count": 54
        }
      ]
    },
    {
      "cell_type": "code",
      "source": [
        "m=np.empty([])\n",
        "m"
      ],
      "metadata": {
        "colab": {
          "base_uri": "https://localhost:8080/"
        },
        "id": "zJ87g8dn542v",
        "outputId": "9b3eeea2-66e6-4876-e46c-831be2b11bdc"
      },
      "execution_count": null,
      "outputs": [
        {
          "output_type": "execute_result",
          "data": {
            "text/plain": [
              "array(4.68058668e-310)"
            ]
          },
          "metadata": {},
          "execution_count": 56
        }
      ]
    },
    {
      "cell_type": "code",
      "source": [
        "ls=np.linspace(1,2,23)\n",
        "ls"
      ],
      "metadata": {
        "colab": {
          "base_uri": "https://localhost:8080/"
        },
        "id": "Bts44K9G54vs",
        "outputId": "daa43536-c826-428a-8777-32079ddbf84c"
      },
      "execution_count": null,
      "outputs": [
        {
          "output_type": "execute_result",
          "data": {
            "text/plain": [
              "array([1.        , 1.04545455, 1.09090909, 1.13636364, 1.18181818,\n",
              "       1.22727273, 1.27272727, 1.31818182, 1.36363636, 1.40909091,\n",
              "       1.45454545, 1.5       , 1.54545455, 1.59090909, 1.63636364,\n",
              "       1.68181818, 1.72727273, 1.77272727, 1.81818182, 1.86363636,\n",
              "       1.90909091, 1.95454545, 2.        ])"
            ]
          },
          "metadata": {},
          "execution_count": 58
        }
      ]
    },
    {
      "cell_type": "code",
      "source": [
        "lg=np.logspace(1,2,23)\n",
        "lg"
      ],
      "metadata": {
        "colab": {
          "base_uri": "https://localhost:8080/"
        },
        "id": "_FDBO6Zj6PAi",
        "outputId": "7ba342f0-077f-4ce8-ca09-e36d46dfc9d4"
      },
      "execution_count": null,
      "outputs": [
        {
          "output_type": "execute_result",
          "data": {
            "text/plain": [
              "array([ 10.        ,  11.10336318,  12.32846739,  13.6887451 ,\n",
              "        15.19911083,  16.87612476,  18.73817423,  20.80567538,\n",
              "        23.101297  ,  25.65020906,  28.48035868,  31.6227766 ,\n",
              "        35.11191734,  38.98603703,  43.28761281,  48.06380863,\n",
              "        53.36699231,  59.25530976,  65.79332247,  73.05271543,\n",
              "        81.11308308,  90.06280202, 100.        ])"
            ]
          },
          "metadata": {},
          "execution_count": 60
        }
      ]
    },
    {
      "cell_type": "code",
      "source": [
        "np.zeros((2,5,4))  # number of array, row, columns\n",
        "\n"
      ],
      "metadata": {
        "colab": {
          "base_uri": "https://localhost:8080/"
        },
        "id": "gljQbXW9Gi25",
        "outputId": "536ebd2b-80ea-49ef-9503-c42018c5cbf6"
      },
      "execution_count": null,
      "outputs": [
        {
          "output_type": "execute_result",
          "data": {
            "text/plain": [
              "array([[[0., 0., 0., 0.],\n",
              "        [0., 0., 0., 0.],\n",
              "        [0., 0., 0., 0.],\n",
              "        [0., 0., 0., 0.],\n",
              "        [0., 0., 0., 0.]],\n",
              "\n",
              "       [[0., 0., 0., 0.],\n",
              "        [0., 0., 0., 0.],\n",
              "        [0., 0., 0., 0.],\n",
              "        [0., 0., 0., 0.],\n",
              "        [0., 0., 0., 0.]]])"
            ]
          },
          "metadata": {},
          "execution_count": 87
        }
      ]
    },
    {
      "cell_type": "code",
      "source": [
        "np.ones((6), dtype=int)"
      ],
      "metadata": {
        "colab": {
          "base_uri": "https://localhost:8080/"
        },
        "id": "YwJ63EhzHrnN",
        "outputId": "af69ed7b-26f8-4ab1-d4ee-64df7c6290de"
      },
      "execution_count": null,
      "outputs": [
        {
          "output_type": "execute_result",
          "data": {
            "text/plain": [
              "array([1, 1, 1, 1, 1, 1])"
            ]
          },
          "metadata": {},
          "execution_count": 92
        }
      ]
    },
    {
      "cell_type": "code",
      "source": [
        "np.ones((2,3,2))"
      ],
      "metadata": {
        "colab": {
          "base_uri": "https://localhost:8080/"
        },
        "id": "VBf54HEuIXSX",
        "outputId": "bbebe2ae-58c7-4fbb-ba02-c814da505ccf"
      },
      "execution_count": null,
      "outputs": [
        {
          "output_type": "execute_result",
          "data": {
            "text/plain": [
              "array([[[1., 1.],\n",
              "        [1., 1.],\n",
              "        [1., 1.]],\n",
              "\n",
              "       [[1., 1.],\n",
              "        [1., 1.],\n",
              "        [1., 1.]]])"
            ]
          },
          "metadata": {},
          "execution_count": 91
        }
      ]
    },
    {
      "cell_type": "code",
      "source": [
        "np.eye(3)   # Diagonal matrix"
      ],
      "metadata": {
        "colab": {
          "base_uri": "https://localhost:8080/"
        },
        "id": "KlOLJAfSIa2_",
        "outputId": "e0c3668f-5274-4d85-e6b4-0b4261f49195"
      },
      "execution_count": null,
      "outputs": [
        {
          "output_type": "execute_result",
          "data": {
            "text/plain": [
              "array([[1., 0., 0.],\n",
              "       [0., 1., 0.],\n",
              "       [0., 0., 1.]])"
            ]
          },
          "metadata": {},
          "execution_count": 93
        }
      ]
    },
    {
      "cell_type": "markdown",
      "source": [
        "###Array in Indexing"
      ],
      "metadata": {
        "id": "V-8lcBKo6h56"
      }
    },
    {
      "cell_type": "code",
      "source": [
        "s"
      ],
      "metadata": {
        "id": "ksT54-AiLaS6",
        "colab": {
          "base_uri": "https://localhost:8080/"
        },
        "outputId": "6cb02609-457c-44ee-b397-d7319eae5506"
      },
      "execution_count": null,
      "outputs": [
        {
          "output_type": "execute_result",
          "data": {
            "text/plain": [
              "array([[2, 4, 6],\n",
              "       [3, 5, 8],\n",
              "       [8, 7, 5]])"
            ]
          },
          "metadata": {},
          "execution_count": 61
        }
      ]
    },
    {
      "cell_type": "code",
      "source": [
        "s[0:1]"
      ],
      "metadata": {
        "colab": {
          "base_uri": "https://localhost:8080/"
        },
        "id": "HWpg-d756swU",
        "outputId": "59cb7296-6b36-426f-b9a0-f05815bb7d83"
      },
      "execution_count": null,
      "outputs": [
        {
          "output_type": "execute_result",
          "data": {
            "text/plain": [
              "array([[2, 4, 6]])"
            ]
          },
          "metadata": {},
          "execution_count": 62
        }
      ]
    },
    {
      "cell_type": "code",
      "source": [
        "s[1:3,2:4]"
      ],
      "metadata": {
        "colab": {
          "base_uri": "https://localhost:8080/"
        },
        "id": "aJl8t-xK6ulQ",
        "outputId": "227d2525-949d-474a-c719-e770a8f4ee51"
      },
      "execution_count": null,
      "outputs": [
        {
          "output_type": "execute_result",
          "data": {
            "text/plain": [
              "array([[8],\n",
              "       [5]])"
            ]
          },
          "metadata": {},
          "execution_count": 63
        }
      ]
    },
    {
      "cell_type": "code",
      "source": [
        "s[0]"
      ],
      "metadata": {
        "colab": {
          "base_uri": "https://localhost:8080/"
        },
        "id": "jxiQzsEI6wtb",
        "outputId": "c84f4d66-81be-4354-982f-fc80c2ccafc5"
      },
      "execution_count": null,
      "outputs": [
        {
          "output_type": "execute_result",
          "data": {
            "text/plain": [
              "array([2, 4, 6])"
            ]
          },
          "metadata": {},
          "execution_count": 64
        }
      ]
    },
    {
      "cell_type": "code",
      "source": [
        "s[0:1,0:1]"
      ],
      "metadata": {
        "colab": {
          "base_uri": "https://localhost:8080/"
        },
        "id": "DtQ0oGW56z67",
        "outputId": "17cef57e-bcc3-4d93-f198-2af20d26ab83"
      },
      "execution_count": null,
      "outputs": [
        {
          "output_type": "execute_result",
          "data": {
            "text/plain": [
              "array([[2]])"
            ]
          },
          "metadata": {},
          "execution_count": 65
        }
      ]
    },
    {
      "cell_type": "code",
      "source": [
        "s[1:1]"
      ],
      "metadata": {
        "colab": {
          "base_uri": "https://localhost:8080/"
        },
        "id": "zDFVTH7Q62aK",
        "outputId": "57e727f0-6234-4edb-e860-82d176f63fad"
      },
      "execution_count": null,
      "outputs": [
        {
          "output_type": "execute_result",
          "data": {
            "text/plain": [
              "array([], shape=(0, 3), dtype=int64)"
            ]
          },
          "metadata": {},
          "execution_count": 66
        }
      ]
    },
    {
      "cell_type": "code",
      "source": [
        "s%2==0"
      ],
      "metadata": {
        "colab": {
          "base_uri": "https://localhost:8080/"
        },
        "id": "YzNxKb6Z64we",
        "outputId": "839b12d1-260b-40ba-beac-9ff6bed5df14"
      },
      "execution_count": null,
      "outputs": [
        {
          "output_type": "execute_result",
          "data": {
            "text/plain": [
              "array([[ True,  True,  True],\n",
              "       [False, False,  True],\n",
              "       [ True, False, False]])"
            ]
          },
          "metadata": {},
          "execution_count": 67
        }
      ]
    },
    {
      "cell_type": "code",
      "source": [
        "s[s%2==0]     # to show thw value if the conditions are true"
      ],
      "metadata": {
        "colab": {
          "base_uri": "https://localhost:8080/"
        },
        "id": "WquYma5867DZ",
        "outputId": "6ac2cbd7-0ce5-422f-b419-c7e43e6c7753"
      },
      "execution_count": null,
      "outputs": [
        {
          "output_type": "execute_result",
          "data": {
            "text/plain": [
              "array([2, 4, 6, 8, 8])"
            ]
          },
          "metadata": {},
          "execution_count": 68
        }
      ]
    },
    {
      "cell_type": "code",
      "source": [],
      "metadata": {
        "id": "Ocv3xgUQ69_a"
      },
      "execution_count": null,
      "outputs": []
    }
  ]
}