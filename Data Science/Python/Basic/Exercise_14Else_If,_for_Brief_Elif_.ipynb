{
  "cells": [
    {
      "cell_type": "markdown",
      "metadata": {
        "id": "j3MhedGR1U13"
      },
      "source": [
        "## Else if, for Brief - ELIF"
      ]
    },
    {
      "cell_type": "markdown",
      "metadata": {
        "id": "lOKrNb0d1U18"
      },
      "source": [
        "Assign 200 to x.\n",
        "Create the following piece of code:\n",
        "If x > 200, print out \"Big\";\n",
        "If x > 100 and x <= 200, print out \"Average\";\n",
        "and If x <= 100, print out \"Small\".\n",
        "Use the If, Elif, and Else keywords in your code."
      ]
    },
    {
      "cell_type": "code",
      "execution_count": null,
      "metadata": {
        "collapsed": true,
        "colab": {
          "base_uri": "https://localhost:8080/"
        },
        "id": "u7mImfPb1U19",
        "outputId": "ef7d8122-916a-4bfc-e974-780f2d66bb1a"
      },
      "outputs": [
        {
          "output_type": "stream",
          "name": "stdout",
          "text": [
            "enter value:200\n",
            "average\n"
          ]
        }
      ],
      "source": [
        "x=int(input(\"enter value:\"))\n",
        "if x>200:\n",
        "  print(\"Big\")\n",
        "elif x>100 and x<=200:\n",
        "  print(\"average\")\n",
        "else:\n",
        "  print(\"small\")"
      ]
    },
    {
      "cell_type": "markdown",
      "metadata": {
        "id": "8aG1mjyK1U1-"
      },
      "source": [
        "Change the initial value of x to see how your output will vary."
      ]
    },
    {
      "cell_type": "markdown",
      "metadata": {
        "id": "65PkSlho1U1-"
      },
      "source": [
        "******"
      ]
    },
    {
      "cell_type": "markdown",
      "metadata": {
        "id": "4x5utQCF1U1_"
      },
      "source": [
        "Keep the first two conditions of the previous code. Add a new ELIF statement, so that, eventually, the program prints \"Small\" if x >= 0 and x <= 100, and \"Negative\" if x < 0.\n",
        "Let x carry the value of 50 and then of -50 to check if your code is correct."
      ]
    },
    {
      "cell_type": "code",
      "execution_count": null,
      "metadata": {
        "collapsed": true,
        "colab": {
          "base_uri": "https://localhost:8080/"
        },
        "id": "r140JPQW1U1_",
        "outputId": "b8e76b25-af24-4fa3-df4b-5a60823b1038"
      },
      "outputs": [
        {
          "output_type": "stream",
          "name": "stdout",
          "text": [
            "enter value:-78\n",
            "incorrect\n"
          ]
        }
      ],
      "source": [
        "x=int(input(\"enter value:\"))\n",
        "if x>200:\n",
        "  print(\"Big\")\n",
        "elif x>100 and x<=200:\n",
        "  print(\"Average\")\n",
        "elif x>=0 and x<=100:\n",
        "  print(\"negative\")\n",
        "else:\n",
        "  print(\"incorrect\")"
      ]
    }
  ],
  "metadata": {
    "anaconda-cloud": {},
    "kernelspec": {
      "display_name": "Python 3",
      "language": "python",
      "name": "python3"
    },
    "language_info": {
      "codemirror_mode": {
        "name": "ipython",
        "version": 3
      },
      "file_extension": ".py",
      "mimetype": "text/x-python",
      "name": "python",
      "nbconvert_exporter": "python",
      "pygments_lexer": "ipython3",
      "version": "3.6.4"
    },
    "colab": {
      "provenance": []
    }
  },
  "nbformat": 4,
  "nbformat_minor": 0
}