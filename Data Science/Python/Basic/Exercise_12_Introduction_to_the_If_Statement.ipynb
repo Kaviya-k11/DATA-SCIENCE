{
  "cells": [
    {
      "cell_type": "markdown",
      "metadata": {
        "id": "eEdG7_494NI2"
      },
      "source": [
        "## Introduction to the IF statement"
      ]
    },
    {
      "cell_type": "markdown",
      "metadata": {
        "id": "sHXbEITQ4NI8"
      },
      "source": [
        "Create a two-line code that prints \"The condition has been satisfied\" if 5 is greater than 2."
      ]
    },
    {
      "cell_type": "code",
      "execution_count": null,
      "metadata": {
        "collapsed": true,
        "id": "pIaaVvyI4NI9",
        "colab": {
          "base_uri": "https://localhost:8080/"
        },
        "outputId": "9ee9c69f-5d09-44e8-a4cb-ddf875c46c95"
      },
      "outputs": [
        {
          "output_type": "stream",
          "name": "stdout",
          "text": [
            "satisfied\n"
          ]
        }
      ],
      "source": [
        "if 5>2:\n",
        "  print(\"satisfied\")"
      ]
    },
    {
      "cell_type": "markdown",
      "metadata": {
        "id": "TSK7Skum4NI-"
      },
      "source": [
        "Assign 10 to the variable x and 25 to the variable y. In the same cell, create 2 conditional statements. Let the first one print \"Both conditions are correct\" if x is greater then 3 and y is greater than 13. Let the second one print \"At least one of the conditions is false\" if x is less than or equal to 3 and y is less than or equal to 13.\n",
        "Change the values assigned to x and y and re-run the cell to verify your code still works."
      ]
    },
    {
      "cell_type": "code",
      "execution_count": null,
      "metadata": {
        "collapsed": true,
        "id": "LN79Xvdj4NI-",
        "colab": {
          "base_uri": "https://localhost:8080/"
        },
        "outputId": "1d645a5f-f214-4154-92c2-c07de135b9d5"
      },
      "outputs": [
        {
          "output_type": "stream",
          "name": "stdout",
          "text": [
            "Both conditions are correct\n"
          ]
        }
      ],
      "source": [
        "x=10\n",
        "y=25\n",
        "if x>3 and y>13:\n",
        "  print( \"Both conditions are correct\")\n",
        "elif x<=3 and y<=13:\n",
        "  print(\"At least one of the conditions is false\")"
      ]
    },
    {
      "cell_type": "code",
      "source": [
        "x=int(input())\n",
        "y=int(input())\n",
        "if x>3 and y>13:\n",
        "  print( \"Both conditions are correct\")\n",
        "elif x<=3 and y<=13:\n",
        "  print(\"At least one of the conditions is false\")\n"
      ],
      "metadata": {
        "colab": {
          "base_uri": "https://localhost:8080/"
        },
        "id": "iDH6I7XdBnzD",
        "outputId": "ab802caf-7f38-4a05-92c2-0b37b56f21c8"
      },
      "execution_count": null,
      "outputs": [
        {
          "name": "stdout",
          "output_type": "stream",
          "text": [
            "6\n",
            "10\n"
          ]
        }
      ]
    }
  ],
  "metadata": {
    "anaconda-cloud": {},
    "kernelspec": {
      "display_name": "Python 3",
      "language": "python",
      "name": "python3"
    },
    "language_info": {
      "codemirror_mode": {
        "name": "ipython",
        "version": 3
      },
      "file_extension": ".py",
      "mimetype": "text/x-python",
      "name": "python",
      "nbconvert_exporter": "python",
      "pygments_lexer": "ipython3",
      "version": "3.6.4"
    },
    "colab": {
      "provenance": []
    }
  },
  "nbformat": 4,
  "nbformat_minor": 0
}