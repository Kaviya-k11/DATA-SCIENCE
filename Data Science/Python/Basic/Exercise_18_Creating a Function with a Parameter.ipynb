{
  "cells": [
    {
      "cell_type": "markdown",
      "metadata": {
        "id": "29U_8Ok8E_-2"
      },
      "source": [
        "## Creating a Function with a Parameter"
      ]
    },
    {
      "cell_type": "markdown",
      "metadata": {
        "id": "pZJpX-UnE_-5"
      },
      "source": [
        "Define a function that returns a value equal to its argument multiplied by 2."
      ]
    },
    {
      "cell_type": "code",
      "execution_count": null,
      "metadata": {
        "colab": {
          "base_uri": "https://localhost:8080/"
        },
        "id": "S7MGyNn0E_-6",
        "outputId": "ecca8075-69ca-47cd-c826-af2cc96fc5cc"
      },
      "outputs": [
        {
          "output_type": "stream",
          "name": "stdout",
          "text": [
            "10\n"
          ]
        }
      ],
      "source": [
        "def func(n):\n",
        "  return n\n",
        "n=5\n",
        "print(n*2)"
      ]
    },
    {
      "cell_type": "markdown",
      "metadata": {
        "id": "qtXVzZNfE_-6"
      },
      "source": [
        "Define a funciton that returns a float value equal to its argument divided by 2."
      ]
    },
    {
      "cell_type": "code",
      "execution_count": null,
      "metadata": {
        "colab": {
          "base_uri": "https://localhost:8080/"
        },
        "id": "Nk8Z76gpE_-6",
        "outputId": "483d69ca-8cdc-45d4-ce80-32e395dff4e4"
      },
      "outputs": [
        {
          "output_type": "stream",
          "name": "stdout",
          "text": [
            "5.0\n"
          ]
        }
      ],
      "source": [
        "def fun():\n",
        "  return 10/2\n",
        "\n",
        "print(fun())"
      ]
    },
    {
      "cell_type": "code",
      "source": [],
      "metadata": {
        "id": "EEjhl314GA8a"
      },
      "execution_count": null,
      "outputs": []
    }
  ],
  "metadata": {
    "anaconda-cloud": {},
    "kernelspec": {
      "display_name": "Python 3",
      "language": "python",
      "name": "python3"
    },
    "language_info": {
      "codemirror_mode": {
        "name": "ipython",
        "version": 3
      },
      "file_extension": ".py",
      "mimetype": "text/x-python",
      "name": "python",
      "nbconvert_exporter": "python",
      "pygments_lexer": "ipython3",
      "version": "3.6.4"
    },
    "colab": {
      "provenance": []
    }
  },
  "nbformat": 4,
  "nbformat_minor": 0
}