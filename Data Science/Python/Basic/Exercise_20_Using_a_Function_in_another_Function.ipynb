{
  "cells": [
    {
      "cell_type": "markdown",
      "metadata": {
        "id": "85g-LqXkLSp8"
      },
      "source": [
        "## Using a Function in Another Function"
      ]
    },
    {
      "cell_type": "markdown",
      "metadata": {
        "id": "mBK93O1CLSp_"
      },
      "source": [
        "Define a function that adds 5 to the parameter. Then, define another function that will multiply the newly obtained number by 3.\n",
        "Verify your code was correct by calling the second function with an argument of 5.\n",
        "Was your output equal to 30?"
      ]
    },
    {
      "cell_type": "code",
      "execution_count": 7,
      "metadata": {
        "colab": {
          "base_uri": "https://localhost:8080/"
        },
        "id": "MiPdtv5vLSqA",
        "outputId": "88ad1ec7-617e-42a3-f7ac-af9de520fe79"
      },
      "outputs": [
        {
          "output_type": "execute_result",
          "data": {
            "text/plain": [
              "(10, 30)"
            ]
          },
          "metadata": {},
          "execution_count": 7
        }
      ],
      "source": [
        "def arg(n):\n",
        "    return n+5\n",
        "def num(n):\n",
        "    return arg(n)*3\n",
        "\n",
        "arg(5),num(5)\n"
      ]
    },
    {
      "cell_type": "code",
      "source": [],
      "metadata": {
        "id": "3oYGvfsqMgl8"
      },
      "execution_count": null,
      "outputs": []
    }
  ],
  "metadata": {
    "anaconda-cloud": {},
    "kernelspec": {
      "display_name": "Python 3",
      "language": "python",
      "name": "python3"
    },
    "language_info": {
      "codemirror_mode": {
        "name": "ipython",
        "version": 3
      },
      "file_extension": ".py",
      "mimetype": "text/x-python",
      "name": "python",
      "nbconvert_exporter": "python",
      "pygments_lexer": "ipython3",
      "version": "3.6.4"
    },
    "colab": {
      "provenance": []
    }
  },
  "nbformat": 4,
  "nbformat_minor": 0
}