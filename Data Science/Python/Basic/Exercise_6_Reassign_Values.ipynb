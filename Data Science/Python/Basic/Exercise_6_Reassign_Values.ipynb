{
  "cells": [
    {
      "cell_type": "markdown",
      "metadata": {
        "id": "eI4wTVzVtcZ9"
      },
      "source": [
        "## Reassign Values"
      ]
    },
    {
      "cell_type": "markdown",
      "metadata": {
        "id": "8d24ermstcaP"
      },
      "source": [
        "Assign the value of 14 to a variable p."
      ]
    },
    {
      "cell_type": "code",
      "execution_count": null,
      "metadata": {
        "collapsed": true,
        "id": "u-xq9bSMtcaR"
      },
      "outputs": [],
      "source": [
        "p=14"
      ]
    },
    {
      "cell_type": "markdown",
      "metadata": {
        "id": "XuFoool5tcaT"
      },
      "source": [
        "Calculate p + 10."
      ]
    },
    {
      "cell_type": "code",
      "execution_count": null,
      "metadata": {
        "collapsed": true,
        "colab": {
          "base_uri": "https://localhost:8080/"
        },
        "id": "74q1hxjNtcaV",
        "outputId": "d97ce49d-e27a-4de1-b8fb-5601651810cf"
      },
      "outputs": [
        {
          "output_type": "execute_result",
          "data": {
            "text/plain": [
              "24"
            ]
          },
          "metadata": {},
          "execution_count": 3
        }
      ],
      "source": [
        "p+10"
      ]
    },
    {
      "cell_type": "markdown",
      "metadata": {
        "id": "m7X-0CPetcaX"
      },
      "source": [
        "Now, assign 30 to the variable p."
      ]
    },
    {
      "cell_type": "code",
      "execution_count": null,
      "metadata": {
        "collapsed": true,
        "id": "VNGod6dTtcaY"
      },
      "outputs": [],
      "source": [
        "p=30"
      ]
    },
    {
      "cell_type": "markdown",
      "metadata": {
        "id": "VTQLKehktcab"
      },
      "source": [
        "Calculate p + 10."
      ]
    },
    {
      "cell_type": "code",
      "execution_count": null,
      "metadata": {
        "collapsed": true,
        "colab": {
          "base_uri": "https://localhost:8080/"
        },
        "id": "1RZqXvPUtcae",
        "outputId": "77a3dee4-ecde-4d24-dacb-0ec2fd6b1be2"
      },
      "outputs": [
        {
          "output_type": "execute_result",
          "data": {
            "text/plain": [
              "40"
            ]
          },
          "metadata": {},
          "execution_count": 5
        }
      ],
      "source": [
        "p+10"
      ]
    },
    {
      "cell_type": "markdown",
      "metadata": {
        "id": "YhOh2LIhtcag"
      },
      "source": [
        "Observe how the value of p is always the last one you have assigned."
      ]
    }
  ],
  "metadata": {
    "anaconda-cloud": {},
    "kernelspec": {
      "display_name": "Python 3",
      "language": "python",
      "name": "python3"
    },
    "language_info": {
      "codemirror_mode": {
        "name": "ipython",
        "version": 3
      },
      "file_extension": ".py",
      "mimetype": "text/x-python",
      "name": "python",
      "nbconvert_exporter": "python",
      "pygments_lexer": "ipython3",
      "version": "3.6.4"
    },
    "colab": {
      "provenance": []
    }
  },
  "nbformat": 4,
  "nbformat_minor": 0
}