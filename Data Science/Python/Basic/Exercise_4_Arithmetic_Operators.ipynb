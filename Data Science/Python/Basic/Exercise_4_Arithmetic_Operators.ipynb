{
  "cells": [
    {
      "cell_type": "markdown",
      "metadata": {
        "id": "asRpXnBF4cFt"
      },
      "source": [
        "## Arithmetic operators"
      ]
    },
    {
      "cell_type": "markdown",
      "metadata": {
        "id": "YtKUGX2w4cFw"
      },
      "source": [
        "Combine 15 and 23."
      ]
    },
    {
      "cell_type": "code",
      "execution_count": null,
      "metadata": {
        "collapsed": true,
        "colab": {
          "base_uri": "https://localhost:8080/"
        },
        "id": "PAYhU1EN4cFw",
        "outputId": "371dc887-e54e-40ee-e502-0cefb60d042b"
      },
      "outputs": [
        {
          "output_type": "execute_result",
          "data": {
            "text/plain": [
              "38"
            ]
          },
          "metadata": {},
          "execution_count": 1
        }
      ],
      "source": [
        "x=15+23\n",
        "x"
      ]
    },
    {
      "cell_type": "markdown",
      "metadata": {
        "id": "GdgPhrLB4cFx"
      },
      "source": [
        "Subtract 50 from 26."
      ]
    },
    {
      "cell_type": "code",
      "execution_count": null,
      "metadata": {
        "collapsed": true,
        "colab": {
          "base_uri": "https://localhost:8080/"
        },
        "id": "A_GhaWj24cFy",
        "outputId": "9360d033-f899-4a1d-d9bc-949b6977ac24"
      },
      "outputs": [
        {
          "output_type": "execute_result",
          "data": {
            "text/plain": [
              "24"
            ]
          },
          "metadata": {},
          "execution_count": 2
        }
      ],
      "source": [
        "s=50-26\n",
        "s"
      ]
    },
    {
      "cell_type": "markdown",
      "metadata": {
        "id": "Ldj1S1lX4cFy"
      },
      "source": [
        "Divide 20 by 4."
      ]
    },
    {
      "cell_type": "code",
      "execution_count": null,
      "metadata": {
        "collapsed": true,
        "colab": {
          "base_uri": "https://localhost:8080/"
        },
        "id": "6ls5ip0h4cFy",
        "outputId": "d62f59a2-c419-4c14-a4d2-647f3326ac2e"
      },
      "outputs": [
        {
          "output_type": "execute_result",
          "data": {
            "text/plain": [
              "5"
            ]
          },
          "metadata": {},
          "execution_count": 4
        }
      ],
      "source": [
        "d=20//4\n",
        "d"
      ]
    },
    {
      "cell_type": "markdown",
      "metadata": {
        "id": "24NUwT_B4cFz"
      },
      "source": [
        "Divide 22 by 4."
      ]
    },
    {
      "cell_type": "code",
      "execution_count": null,
      "metadata": {
        "collapsed": true,
        "colab": {
          "base_uri": "https://localhost:8080/"
        },
        "id": "hPIpYKCM4cFz",
        "outputId": "95902353-43c2-42fd-9a00-15abf13be82e"
      },
      "outputs": [
        {
          "output_type": "execute_result",
          "data": {
            "text/plain": [
              "5.5"
            ]
          },
          "metadata": {},
          "execution_count": 7
        }
      ],
      "source": [
        "dd=22//4\n",
        "dd"
      ]
    },
    {
      "cell_type": "markdown",
      "metadata": {
        "id": "rBuvAP5i4cFz"
      },
      "source": [
        "Obtain the remainder of the division of 22 by 4."
      ]
    },
    {
      "cell_type": "code",
      "execution_count": null,
      "metadata": {
        "collapsed": true,
        "colab": {
          "base_uri": "https://localhost:8080/"
        },
        "id": "Z5e658tm4cFz",
        "outputId": "7fad95d3-1064-4fb3-d5c6-a3c9ab40b6b4"
      },
      "outputs": [
        {
          "output_type": "execute_result",
          "data": {
            "text/plain": [
              "2"
            ]
          },
          "metadata": {},
          "execution_count": 8
        }
      ],
      "source": [
        "r=22%4\n",
        "r"
      ]
    },
    {
      "cell_type": "markdown",
      "metadata": {
        "id": "EWN6cs4E4cF0"
      },
      "source": [
        "Divide the float 22 by 4."
      ]
    },
    {
      "cell_type": "code",
      "execution_count": null,
      "metadata": {
        "collapsed": true,
        "colab": {
          "base_uri": "https://localhost:8080/"
        },
        "id": "FD0WbwDH4cF0",
        "outputId": "9857166a-7c6b-4ae5-9d6c-403bbc3d56be"
      },
      "outputs": [
        {
          "output_type": "execute_result",
          "data": {
            "text/plain": [
              "5.5"
            ]
          },
          "metadata": {},
          "execution_count": 10
        }
      ],
      "source": [
        "df=22/4\n",
        "df"
      ]
    },
    {
      "cell_type": "code",
      "execution_count": null,
      "metadata": {
        "collapsed": true,
        "id": "iH3Xro-t4cF0"
      },
      "outputs": [],
      "source": []
    },
    {
      "cell_type": "markdown",
      "metadata": {
        "id": "uIq3G4A34cF0"
      },
      "source": [
        "Multiply 6 by 8."
      ]
    },
    {
      "cell_type": "code",
      "execution_count": null,
      "metadata": {
        "collapsed": true,
        "colab": {
          "base_uri": "https://localhost:8080/"
        },
        "id": "Kxo88w9J4cF0",
        "outputId": "745d8745-a2e9-42fb-8c0a-9239c2ec3bd0"
      },
      "outputs": [
        {
          "output_type": "execute_result",
          "data": {
            "text/plain": [
              "48"
            ]
          },
          "metadata": {},
          "execution_count": 11
        }
      ],
      "source": [
        "m=6*8\n",
        "m"
      ]
    },
    {
      "cell_type": "markdown",
      "metadata": {
        "id": "musUCpeN4cF1"
      },
      "source": [
        "Raise 15 to the power of 2."
      ]
    },
    {
      "cell_type": "code",
      "execution_count": null,
      "metadata": {
        "collapsed": true,
        "colab": {
          "base_uri": "https://localhost:8080/"
        },
        "id": "9Sn9F6Hc4cF1",
        "outputId": "eebab7c7-624c-4821-c86d-b8f5ab1488f0"
      },
      "outputs": [
        {
          "output_type": "execute_result",
          "data": {
            "text/plain": [
              "225"
            ]
          },
          "metadata": {},
          "execution_count": 12
        }
      ],
      "source": [
        "p=15**2\n",
        "p"
      ]
    },
    {
      "cell_type": "code",
      "source": [],
      "metadata": {
        "id": "wp4ttUQ45FxC"
      },
      "execution_count": null,
      "outputs": []
    }
  ],
  "metadata": {
    "anaconda-cloud": {},
    "kernelspec": {
      "display_name": "Python 3",
      "language": "python",
      "name": "python3"
    },
    "language_info": {
      "codemirror_mode": {
        "name": "ipython",
        "version": 3
      },
      "file_extension": ".py",
      "mimetype": "text/x-python",
      "name": "python",
      "nbconvert_exporter": "python",
      "pygments_lexer": "ipython3",
      "version": "3.6.4"
    },
    "colab": {
      "provenance": []
    }
  },
  "nbformat": 4,
  "nbformat_minor": 0
}