{
  "cells": [
    {
      "cell_type": "markdown",
      "metadata": {
        "id": "svh2fn5g0wHb"
      },
      "source": [
        "## Structure Your Code with Indentation"
      ]
    },
    {
      "cell_type": "markdown",
      "metadata": {
        "id": "d0crDrl90wHe"
      },
      "source": [
        "Use indentation properly to print the result of the function with an argument of 3."
      ]
    },
    {
      "cell_type": "code",
      "execution_count": null,
      "metadata": {
        "id": "FmTovBD90wHe"
      },
      "outputs": [],
      "source": [
        "def ten(x):\n",
        "    x = 10\n",
        "    return x\n",
        "    print (ten(3))"
      ]
    },
    {
      "cell_type": "code",
      "source": [
        "def ten(x):\n",
        "    x = 10\n",
        "    return x\n",
        "print (ten(3))"
      ],
      "metadata": {
        "id": "vNKYbuTj03Xf",
        "colab": {
          "base_uri": "https://localhost:8080/"
        },
        "outputId": "e32fbeed-2c24-4288-989a-53d8e9e3becd"
      },
      "execution_count": null,
      "outputs": [
        {
          "output_type": "stream",
          "name": "stdout",
          "text": [
            "10\n"
          ]
        }
      ]
    },
    {
      "cell_type": "code",
      "source": [],
      "metadata": {
        "id": "ffTP8CD205wu"
      },
      "execution_count": null,
      "outputs": []
    }
  ],
  "metadata": {
    "anaconda-cloud": {},
    "kernelspec": {
      "display_name": "Python 3",
      "language": "python",
      "name": "python3"
    },
    "language_info": {
      "codemirror_mode": {
        "name": "ipython",
        "version": 3
      },
      "file_extension": ".py",
      "mimetype": "text/x-python",
      "name": "python",
      "nbconvert_exporter": "python",
      "pygments_lexer": "ipython3",
      "version": "3.6.4"
    },
    "colab": {
      "provenance": []
    }
  },
  "nbformat": 4,
  "nbformat_minor": 0
}