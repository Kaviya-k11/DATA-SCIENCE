{
  "cells": [
    {
      "cell_type": "markdown",
      "metadata": {
        "id": "E-KhuEoxNrt-"
      },
      "source": [
        "## Strings"
      ]
    },
    {
      "cell_type": "markdown",
      "metadata": {
        "id": "5QzPiiIJNruE"
      },
      "source": [
        "Assign the value of 100 to the variable \"m\"."
      ]
    },
    {
      "cell_type": "code",
      "execution_count": null,
      "metadata": {
        "id": "RGWQn0JdNruF"
      },
      "outputs": [],
      "source": [
        "m=100"
      ]
    },
    {
      "cell_type": "markdown",
      "metadata": {
        "id": "WfBZWczeNruH"
      },
      "source": [
        "With the help of the variable \"m\", write one line of code where the output after executuion would be *100 days*.\n",
        "\n",
        "*Hint:* *You could provide four answers to this question!*"
      ]
    },
    {
      "cell_type": "code",
      "execution_count": null,
      "metadata": {
        "colab": {
          "base_uri": "https://localhost:8080/"
        },
        "id": "cV5oTN7GNruH",
        "outputId": "a50f01e8-41e3-4db4-f604-8f6276904c7b"
      },
      "outputs": [
        {
          "output_type": "stream",
          "name": "stdout",
          "text": [
            "100 days\n"
          ]
        }
      ],
      "source": [
        "print(m,\"days\")"
      ]
    },
    {
      "cell_type": "code",
      "execution_count": null,
      "metadata": {
        "colab": {
          "base_uri": "https://localhost:8080/"
        },
        "id": "K9thDtV7NruI",
        "outputId": "a27869bb-36e5-47db-e1a5-8e88e4438178"
      },
      "outputs": [
        {
          "output_type": "stream",
          "name": "stdout",
          "text": [
            "100 days\n"
          ]
        }
      ],
      "source": [
        "n=\"days\"\n",
        "print(m,n)"
      ]
    },
    {
      "cell_type": "code",
      "execution_count": null,
      "metadata": {
        "id": "upWYHowTNruI"
      },
      "outputs": [],
      "source": []
    },
    {
      "cell_type": "markdown",
      "metadata": {
        "id": "IDh9v9JRNruJ"
      },
      "source": [
        "Produce an output equal to *It's cool, isn't it?*"
      ]
    },
    {
      "cell_type": "code",
      "execution_count": null,
      "metadata": {
        "id": "VU1YHSlnNruJ"
      },
      "outputs": [],
      "source": []
    },
    {
      "cell_type": "markdown",
      "metadata": {
        "id": "j05z1wt9NruJ"
      },
      "source": [
        "Fix the string below."
      ]
    },
    {
      "cell_type": "code",
      "source": [
        "'Don't be shy"
      ],
      "metadata": {
        "id": "NtT9BxS222Vu"
      },
      "execution_count": null,
      "outputs": []
    },
    {
      "cell_type": "code",
      "source": [
        "s=str(\"'Don't be shy\")\n",
        "print(s)"
      ],
      "metadata": {
        "colab": {
          "base_uri": "https://localhost:8080/"
        },
        "id": "24wSHGsvP51j",
        "outputId": "b11ea199-fb36-4f33-e998-6757610d1dc9"
      },
      "execution_count": null,
      "outputs": [
        {
          "output_type": "stream",
          "name": "stdout",
          "text": [
            "'Don't be shy\n"
          ]
        }
      ]
    },
    {
      "cell_type": "markdown",
      "metadata": {
        "id": "rnfLz-zCNruL"
      },
      "source": [
        "Produce an output equal to *Click \"OK\"*."
      ]
    },
    {
      "cell_type": "code",
      "execution_count": null,
      "metadata": {
        "id": "H-YGZd_3NruL"
      },
      "outputs": [],
      "source": []
    },
    {
      "cell_type": "markdown",
      "metadata": {
        "id": "vBDv9G_KNruM"
      },
      "source": [
        "Include a plus sign in your line of code to produce *'Big Houses'*."
      ]
    },
    {
      "cell_type": "code",
      "execution_count": null,
      "metadata": {
        "id": "FOe6B2SENruM"
      },
      "outputs": [],
      "source": [
        "s=str(\"'Don't be shy\"+\"Big Houses\")"
      ]
    },
    {
      "cell_type": "markdown",
      "metadata": {
        "id": "XB-U4Y67NruM"
      },
      "source": [
        "Include a trailing comma in your line of code to produce *Big Houses*."
      ]
    },
    {
      "cell_type": "code",
      "execution_count": null,
      "metadata": {
        "id": "jCTCTADcNruN"
      },
      "outputs": [],
      "source": []
    }
  ],
  "metadata": {
    "anaconda-cloud": {},
    "kernelspec": {
      "display_name": "Python 3",
      "language": "python",
      "name": "python3"
    },
    "language_info": {
      "codemirror_mode": {
        "name": "ipython",
        "version": 3
      },
      "file_extension": ".py",
      "mimetype": "text/x-python",
      "name": "python",
      "nbconvert_exporter": "python",
      "pygments_lexer": "ipython3",
      "version": "3.6.4"
    },
    "colab": {
      "provenance": []
    }
  },
  "nbformat": 4,
  "nbformat_minor": 0
}