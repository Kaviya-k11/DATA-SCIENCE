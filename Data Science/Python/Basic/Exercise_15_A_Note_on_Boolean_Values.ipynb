{
  "cells": [
    {
      "cell_type": "code",
      "execution_count": null,
      "metadata": {
        "id": "WYHV_f6KDsDC",
        "outputId": "90d7967b-a99c-46dd-e815-446815347439",
        "colab": {
          "base_uri": "https://localhost:8080/"
        }
      },
      "outputs": [
        {
          "output_type": "stream",
          "name": "stdout",
          "text": [
            "Incorrect\n"
          ]
        }
      ],
      "source": [
        "x = 2\n",
        "\n",
        "if x > 4:\n",
        "    print (\"Correct\")\n",
        "else:\n",
        "    print (\"Incorrect\")"
      ]
    }
  ],
  "metadata": {
    "kernelspec": {
      "display_name": "Python 3",
      "language": "python",
      "name": "python3"
    },
    "language_info": {
      "codemirror_mode": {
        "name": "ipython",
        "version": 3
      },
      "file_extension": ".py",
      "mimetype": "text/x-python",
      "name": "python",
      "nbconvert_exporter": "python",
      "pygments_lexer": "ipython3",
      "version": "3.6.4"
    },
    "colab": {
      "provenance": []
    }
  },
  "nbformat": 4,
  "nbformat_minor": 0
}