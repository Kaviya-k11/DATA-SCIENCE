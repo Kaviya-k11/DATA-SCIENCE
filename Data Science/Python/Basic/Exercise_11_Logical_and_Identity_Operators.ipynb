{
  "cells": [
    {
      "cell_type": "markdown",
      "metadata": {
        "id": "aoBAklCa5Od0"
      },
      "source": [
        "## Logical and Identity Operators"
      ]
    },
    {
      "cell_type": "markdown",
      "metadata": {
        "id": "yo9r5pBa5OeG"
      },
      "source": [
        "Suggested Answers follow (usually there are multiple ways to solve a problem in Python)."
      ]
    },
    {
      "cell_type": "markdown",
      "metadata": {
        "id": "SIE3XrEg5OeG"
      },
      "source": [
        "Check whether the following code is True or False."
      ]
    },
    {
      "cell_type": "markdown",
      "metadata": {
        "id": "Mp_ZsNwh5OeH"
      },
      "source": [
        "False or not True and not False"
      ]
    },
    {
      "cell_type": "code",
      "execution_count": null,
      "metadata": {
        "id": "VsLR9rHH5OeH",
        "colab": {
          "base_uri": "https://localhost:8080/"
        },
        "outputId": "3599e0bc-6bc6-4f26-ffb4-75bd70265334"
      },
      "outputs": [
        {
          "output_type": "execute_result",
          "data": {
            "text/plain": [
              "False"
            ]
          },
          "metadata": {},
          "execution_count": 1
        }
      ],
      "source": [
        "False or not True and not False"
      ]
    },
    {
      "cell_type": "markdown",
      "metadata": {
        "id": "eUXWditC5OeH"
      },
      "source": [
        "True and not False and True or not False"
      ]
    },
    {
      "cell_type": "code",
      "execution_count": null,
      "metadata": {
        "collapsed": true,
        "id": "Y07LJQCc5OeI",
        "colab": {
          "base_uri": "https://localhost:8080/"
        },
        "outputId": "0e043ebb-d998-4568-d002-af4f472da268"
      },
      "outputs": [
        {
          "output_type": "execute_result",
          "data": {
            "text/plain": [
              "True"
            ]
          },
          "metadata": {},
          "execution_count": 2
        }
      ],
      "source": [
        "True and not False and True or not False"
      ]
    },
    {
      "cell_type": "markdown",
      "metadata": {
        "id": "3Q93E0Yt5OeI"
      },
      "source": [
        "True or False and False"
      ]
    },
    {
      "cell_type": "code",
      "execution_count": null,
      "metadata": {
        "collapsed": true,
        "id": "dh5B9pmh5OeI",
        "colab": {
          "base_uri": "https://localhost:8080/"
        },
        "outputId": "a2b91e73-6379-452d-8b69-37b52de69bae"
      },
      "outputs": [
        {
          "output_type": "execute_result",
          "data": {
            "text/plain": [
              "True"
            ]
          },
          "metadata": {},
          "execution_count": 3
        }
      ],
      "source": [
        "True or False and False"
      ]
    },
    {
      "cell_type": "markdown",
      "metadata": {
        "id": "XkcdjAKU5OeI"
      },
      "source": [
        "False and True or False"
      ]
    },
    {
      "cell_type": "code",
      "execution_count": null,
      "metadata": {
        "collapsed": true,
        "id": "yAs3a1yu5OeJ",
        "colab": {
          "base_uri": "https://localhost:8080/"
        },
        "outputId": "431f9863-71a1-482c-8981-557d6117140e"
      },
      "outputs": [
        {
          "output_type": "execute_result",
          "data": {
            "text/plain": [
              "False"
            ]
          },
          "metadata": {},
          "execution_count": 4
        }
      ],
      "source": [
        "False and True or False"
      ]
    },
    {
      "cell_type": "markdown",
      "metadata": {
        "id": "cXGnRU7m5OeJ"
      },
      "source": [
        "Using an identity operator, verify that 10 is not the same as 12."
      ]
    },
    {
      "cell_type": "code",
      "execution_count": null,
      "metadata": {
        "collapsed": true,
        "id": "4F5S-_Y95OeJ",
        "colab": {
          "base_uri": "https://localhost:8080/"
        },
        "outputId": "25de649f-e137-4fd7-888d-c2da1017142e"
      },
      "outputs": [
        {
          "output_type": "execute_result",
          "data": {
            "text/plain": [
              "True"
            ]
          },
          "metadata": {},
          "execution_count": 7
        }
      ],
      "source": [
        "#10 is not 12\n",
        "10!=12\n"
      ]
    },
    {
      "cell_type": "markdown",
      "metadata": {
        "id": "986e7KKD5OeJ"
      },
      "source": [
        "Using an identity operator, verify that 50 is the same as 50."
      ]
    },
    {
      "cell_type": "code",
      "execution_count": null,
      "metadata": {
        "collapsed": true,
        "id": "MoEqWLKd5OeJ",
        "colab": {
          "base_uri": "https://localhost:8080/"
        },
        "outputId": "76c81289-f5b3-4bf8-89ef-4fdc4d7613b7"
      },
      "outputs": [
        {
          "output_type": "execute_result",
          "data": {
            "text/plain": [
              "True"
            ]
          },
          "metadata": {},
          "execution_count": 8
        }
      ],
      "source": [
        "#50 is 50\n",
        "50==50\n"
      ]
    },
    {
      "cell_type": "code",
      "source": [],
      "metadata": {
        "id": "D5x4Eexa8BLB"
      },
      "execution_count": null,
      "outputs": []
    }
  ],
  "metadata": {
    "anaconda-cloud": {},
    "kernelspec": {
      "display_name": "Python 3",
      "language": "python",
      "name": "python3"
    },
    "language_info": {
      "codemirror_mode": {
        "name": "ipython",
        "version": 3
      },
      "file_extension": ".py",
      "mimetype": "text/x-python",
      "name": "python",
      "nbconvert_exporter": "python",
      "pygments_lexer": "ipython3",
      "version": "3.6.4"
    },
    "colab": {
      "provenance": []
    }
  },
  "nbformat": 4,
  "nbformat_minor": 0
}