{
  "cells": [
    {
      "cell_type": "markdown",
      "metadata": {
        "id": "BRARcHJ9Bvbp"
      },
      "source": [
        "## Add an ELSE Statement"
      ]
    },
    {
      "cell_type": "markdown",
      "metadata": {
        "id": "AdYpLzIABvbs"
      },
      "source": [
        "Let x represent the number of orders received during a certain day.\n",
        "Assign 102 to x. Create a program that prints \"A busy day\" if x is greater than 100, and \"A calm day\" otherwise. Change x to 97 to verify your code works properly."
      ]
    },
    {
      "cell_type": "code",
      "execution_count": null,
      "metadata": {
        "collapsed": true,
        "colab": {
          "base_uri": "https://localhost:8080/"
        },
        "id": "HKKpAJQMBvbt",
        "outputId": "fd094fff-73f7-478d-cb01-f88777e8f4be"
      },
      "outputs": [
        {
          "output_type": "stream",
          "name": "stdout",
          "text": [
            "A busy day\n"
          ]
        }
      ],
      "source": [
        "x=102\n",
        "if x>100:\n",
        "  print(\"A busy day\")\n",
        "else:\n",
        "  print(\"A calm day\")"
      ]
    },
    {
      "cell_type": "code",
      "source": [],
      "metadata": {
        "id": "x66CFPs0CgRJ"
      },
      "execution_count": null,
      "outputs": []
    }
  ],
  "metadata": {
    "anaconda-cloud": {},
    "kernelspec": {
      "display_name": "Python 3",
      "language": "python",
      "name": "python3"
    },
    "language_info": {
      "codemirror_mode": {
        "name": "ipython",
        "version": 3
      },
      "file_extension": ".py",
      "mimetype": "text/x-python",
      "name": "python",
      "nbconvert_exporter": "python",
      "pygments_lexer": "ipython3",
      "version": "3.6.4"
    },
    "colab": {
      "provenance": []
    }
  },
  "nbformat": 4,
  "nbformat_minor": 0
}