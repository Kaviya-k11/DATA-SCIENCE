{
  "cells": [
    {
      "cell_type": "markdown",
      "metadata": {
        "id": "4iVlm9oZv3HZ"
      },
      "source": [
        "## Comparison Operators"
      ]
    },
    {
      "cell_type": "markdown",
      "metadata": {
        "id": "XwfEo_2wv3Hk"
      },
      "source": [
        "Verify that 25 is smaller than 30."
      ]
    },
    {
      "cell_type": "code",
      "execution_count": null,
      "metadata": {
        "collapsed": true,
        "id": "i0F5sNErv3Ho",
        "colab": {
          "base_uri": "https://localhost:8080/"
        },
        "outputId": "b72462f3-dd4e-4976-94c2-79b6bea4600d"
      },
      "outputs": [
        {
          "output_type": "execute_result",
          "data": {
            "text/plain": [
              "True"
            ]
          },
          "metadata": {},
          "execution_count": 1
        }
      ],
      "source": [
        "a=25\n",
        "b=30\n",
        "a<b\n"
      ]
    },
    {
      "cell_type": "markdown",
      "metadata": {
        "id": "L-YbQsc-v3Hr"
      },
      "source": [
        "Verify that 5 multiplied by 3 is less than or equal to 5 to the power of 3."
      ]
    },
    {
      "cell_type": "code",
      "execution_count": null,
      "metadata": {
        "collapsed": true,
        "id": "-LS7Yul3v3Ht",
        "colab": {
          "base_uri": "https://localhost:8080/"
        },
        "outputId": "6a2cf3a4-bd5f-49cf-a08d-7947423010b6"
      },
      "outputs": [
        {
          "output_type": "execute_result",
          "data": {
            "text/plain": [
              "True"
            ]
          },
          "metadata": {},
          "execution_count": 2
        }
      ],
      "source": [
        "x=5*3\n",
        "y=5**3\n",
        "x<=y"
      ]
    },
    {
      "cell_type": "markdown",
      "metadata": {
        "id": "7kruxMEOv3Hu"
      },
      "source": [
        "Verify that 100 is equal to 10 square."
      ]
    },
    {
      "cell_type": "code",
      "execution_count": null,
      "metadata": {
        "collapsed": true,
        "id": "1dEbEzngv3Hv"
      },
      "outputs": [],
      "source": [
        "x=100\n",
        "y=10**2\n",
        "x=y"
      ]
    },
    {
      "cell_type": "markdown",
      "metadata": {
        "id": "kIZnbLHrv3Hw"
      },
      "source": [
        "Verify that 53 is not equal to 46."
      ]
    },
    {
      "cell_type": "code",
      "execution_count": null,
      "metadata": {
        "collapsed": true,
        "id": "oixjb7xhv3Hx",
        "colab": {
          "base_uri": "https://localhost:8080/"
        },
        "outputId": "25d8211c-4b97-4d8e-9eff-e091a024a61f"
      },
      "outputs": [
        {
          "output_type": "execute_result",
          "data": {
            "text/plain": [
              "True"
            ]
          },
          "metadata": {},
          "execution_count": 4
        }
      ],
      "source": [
        "m=53\n",
        "n=46\n",
        "m!=n"
      ]
    },
    {
      "cell_type": "code",
      "source": [],
      "metadata": {
        "id": "wjllPfj70do7"
      },
      "execution_count": null,
      "outputs": []
    }
  ],
  "metadata": {
    "anaconda-cloud": {},
    "kernelspec": {
      "display_name": "Python 3",
      "language": "python",
      "name": "python3"
    },
    "language_info": {
      "codemirror_mode": {
        "name": "ipython",
        "version": 3
      },
      "file_extension": ".py",
      "mimetype": "text/x-python",
      "name": "python",
      "nbconvert_exporter": "python",
      "pygments_lexer": "ipython3",
      "version": "3.6.4"
    },
    "colab": {
      "provenance": []
    }
  },
  "nbformat": 4,
  "nbformat_minor": 0
}