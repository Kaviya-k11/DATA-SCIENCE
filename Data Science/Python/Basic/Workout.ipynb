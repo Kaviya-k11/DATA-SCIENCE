{
  "nbformat": 4,
  "nbformat_minor": 0,
  "metadata": {
    "colab": {
      "provenance": []
    },
    "kernelspec": {
      "name": "python3",
      "display_name": "Python 3"
    },
    "language_info": {
      "name": "python"
    }
  },
  "cells": [
    {
      "cell_type": "markdown",
      "source": [
        "# **Square root Number**\n"
      ],
      "metadata": {
        "id": "SBpaR3SQ026b"
      }
    },
    {
      "cell_type": "code",
      "source": [
        "a= int(input(\"Enter a Number: \"))\n",
        "squareroot = a **0.5\n",
        "print(\"Square Root of a is:\", squareroot)"
      ],
      "metadata": {
        "colab": {
          "base_uri": "https://localhost:8080/"
        },
        "id": "PxRrA6N_0_MH",
        "outputId": "62cb358c-c1a8-42c7-ea54-3240b03202c6"
      },
      "execution_count": null,
      "outputs": [
        {
          "output_type": "stream",
          "name": "stdout",
          "text": [
            "Enter a Number: 81\n",
            "Square Root of a is: 9.0\n"
          ]
        }
      ]
    },
    {
      "cell_type": "markdown",
      "source": [
        "#**Area of Triangle**"
      ],
      "metadata": {
        "id": "5C_vCPqK4A8G"
      }
    },
    {
      "cell_type": "code",
      "source": [
        "l=int(input(\"Enter value of l: \"))\n",
        "b=int(input(\"Enter value of b: \"))\n",
        "area=l*b/2\n",
        "print(\"area of triangle :\",area)"
      ],
      "metadata": {
        "colab": {
          "base_uri": "https://localhost:8080/"
        },
        "id": "N10jK5hf1KfQ",
        "outputId": "4c5696f4-c93b-4bcf-84e5-cbea9c7ed8e9"
      },
      "execution_count": null,
      "outputs": [
        {
          "output_type": "stream",
          "name": "stdout",
          "text": [
            "Enter value of l: 3\n",
            "Enter value of b: 6\n",
            "area of triangle : 9.0\n"
          ]
        }
      ]
    },
    {
      "cell_type": "markdown",
      "source": [
        "# **Quadratic Equataion**"
      ],
      "metadata": {
        "id": "GvTCc8Xw5Z7V"
      }
    },
    {
      "cell_type": "code",
      "source": [
        "x=int(input(\"Enter value of x: \"))\n",
        "y=int(input(\"Enter value of y: \"))\n",
        "c=int(input(\"Enter value of c: \"))\n",
        "s=3*(x**2)+4*y-c\n",
        "print(\"Quadratic Equation :\",s)"
      ],
      "metadata": {
        "colab": {
          "base_uri": "https://localhost:8080/"
        },
        "id": "vmtOXHLl5DTq",
        "outputId": "e8c2e964-41f7-4c72-bd84-84b8dbf997e9"
      },
      "execution_count": null,
      "outputs": [
        {
          "output_type": "stream",
          "name": "stdout",
          "text": [
            "Enter value of x: 4\n",
            "Enter value of y: 5\n",
            "Enter value of c: 6\n",
            "Quadratic Equation : 62\n"
          ]
        }
      ]
    },
    {
      "cell_type": "markdown",
      "source": [
        "# **Celsius To Fahrenheit**"
      ],
      "metadata": {
        "id": "bl8jWprG7YXV"
      }
    },
    {
      "cell_type": "code",
      "source": [
        "c=float(input(\"enter celsius value :\"))\n",
        "f=(c*1.8)+32\n",
        "print(\"Fahrenheit value :\",f)"
      ],
      "metadata": {
        "colab": {
          "base_uri": "https://localhost:8080/"
        },
        "id": "Rne8rsQH6AoW",
        "outputId": "c1126d66-d27d-49c4-bd76-46ed49391cc9"
      },
      "execution_count": null,
      "outputs": [
        {
          "output_type": "stream",
          "name": "stdout",
          "text": [
            "enter celsius value :19.5\n",
            "Fahrenheit value : 67.1\n"
          ]
        }
      ]
    },
    {
      "cell_type": "markdown",
      "source": [
        "# **Swap Two Variables**"
      ],
      "metadata": {
        "id": "MQf0cXVM8Neq"
      }
    },
    {
      "cell_type": "code",
      "source": [
        "x=int(input(\"Enter value of x: \"))\n",
        "y=int(input(\"Enter value of y: \"))\n",
        "temp=x\n",
        "x=y\n",
        "y=temp\n",
        "print(\"value of x is:\",x)\n",
        "print(\"value of y is:\",y)"
      ],
      "metadata": {
        "colab": {
          "base_uri": "https://localhost:8080/"
        },
        "id": "MWe2xTk871nW",
        "outputId": "b6a82cfa-72f8-493d-d923-0d48fa347102"
      },
      "execution_count": null,
      "outputs": [
        {
          "output_type": "stream",
          "name": "stdout",
          "text": [
            "Enter value of x: 6\n",
            "Enter value of y: 8\n",
            "value of x is: 8\n",
            "value of y is: 6\n"
          ]
        }
      ]
    },
    {
      "cell_type": "code",
      "source": [],
      "metadata": {
        "id": "QYk1iHtt9Ge7"
      },
      "execution_count": null,
      "outputs": []
    }
  ]
}