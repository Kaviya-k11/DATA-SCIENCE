{
  "nbformat": 4,
  "nbformat_minor": 0,
  "metadata": {
    "colab": {
      "provenance": []
    },
    "kernelspec": {
      "name": "python3",
      "display_name": "Python 3"
    },
    "language_info": {
      "name": "python"
    }
  },
  "cells": [
    {
      "cell_type": "markdown",
      "source": [
        "###**Write a Python Program to check whether the given number is Armstrong number or not**\n"
      ],
      "metadata": {
        "id": "YzjC86R_Cb4U"
      }
    },
    {
      "cell_type": "code",
      "execution_count": 1,
      "metadata": {
        "colab": {
          "base_uri": "https://localhost:8080/"
        },
        "id": "Agku5LiOCRwH",
        "outputId": "67f809f1-c94f-40c0-8953-8da5056e4a0c"
      },
      "outputs": [
        {
          "output_type": "stream",
          "name": "stdout",
          "text": [
            "Enter a number: 153\n",
            "153 is an Armstrong number\n"
          ]
        }
      ],
      "source": [
        "n = int(input(\"Enter a number: \"))\n",
        "sum = 0\n",
        "temp = n\n",
        "while temp > 0:\n",
        "   digit = temp % 10\n",
        "   sum += digit ** 3\n",
        "   temp //= 10\n",
        "if n== sum:\n",
        "   print(n,\"is an Armstrong number\")\n",
        "else:\n",
        "   print(n,\"is not an Armstrong number\")\n"
      ]
    },
    {
      "cell_type": "markdown",
      "source": [
        "###**Write a Python code snippets to find square of each number in a List**"
      ],
      "metadata": {
        "id": "jReKDba8ETiO"
      }
    },
    {
      "cell_type": "code",
      "source": [
        "l= [1, 2, 3, 4, 5]\n",
        "for i in range(len(l)):\n",
        "    l[i] = l[i]**2\n",
        "print(l)"
      ],
      "metadata": {
        "colab": {
          "base_uri": "https://localhost:8080/"
        },
        "id": "9eLX6ASHD1Wt",
        "outputId": "8170eb4b-0f0b-4104-bb9e-ff43aef71691"
      },
      "execution_count": 2,
      "outputs": [
        {
          "output_type": "stream",
          "name": "stdout",
          "text": [
            "[1, 4, 9, 16, 25]\n"
          ]
        }
      ]
    },
    {
      "cell_type": "markdown",
      "source": [
        "### **Write a Python Dictionary program to find maximum value in the dictionary**"
      ],
      "metadata": {
        "id": "DAVaLoxMFA3G"
      }
    },
    {
      "cell_type": "code",
      "source": [
        "dict={'k':23,'s':45,'n':34}\n",
        "val=dict.values()\n",
        "val"
      ],
      "metadata": {
        "id": "B1nQOillICpr",
        "colab": {
          "base_uri": "https://localhost:8080/"
        },
        "outputId": "9cc66746-f343-4452-b679-94879a0c8aa9"
      },
      "execution_count": 3,
      "outputs": [
        {
          "output_type": "execute_result",
          "data": {
            "text/plain": [
              "dict_values([23, 45, 34])"
            ]
          },
          "metadata": {},
          "execution_count": 3
        }
      ]
    },
    {
      "cell_type": "code",
      "source": [
        "max=max(val)\n",
        "max"
      ],
      "metadata": {
        "colab": {
          "base_uri": "https://localhost:8080/"
        },
        "id": "FgteUcEsI01y",
        "outputId": "9d532eb0-afa2-490c-9b32-131925596085"
      },
      "execution_count": 4,
      "outputs": [
        {
          "output_type": "execute_result",
          "data": {
            "text/plain": [
              "45"
            ]
          },
          "metadata": {},
          "execution_count": 4
        }
      ]
    },
    {
      "cell_type": "markdown",
      "source": [
        "###**How will you identify the missing values and deal with in pandas. Write code snippets to show this.**"
      ],
      "metadata": {
        "id": "McfzLfnUJOqt"
      }
    },
    {
      "cell_type": "code",
      "source": [
        "import pandas as pd\n"
      ],
      "metadata": {
        "id": "W5TMYIYIJOVl"
      },
      "execution_count": 5,
      "outputs": []
    },
    {
      "cell_type": "code",
      "source": [
        "# to check null values\n",
        " df.isnull().sum()\n"
      ],
      "metadata": {
        "id": "VqB3rQMpI37t"
      },
      "execution_count": 7,
      "outputs": []
    },
    {
      "cell_type": "code",
      "source": [
        "# to deal null values\n",
        "\n",
        "df.dropna()      # this function used to drop null values in records that lessthan 3%\n",
        "\n",
        "df.fillna()       # this function used to fill null values i)  if the columns values are numeric  used to fill with mean/meadian vaules\n",
        "                  #                                        ii) if the columns values are categorical used to fill with mode values"
      ],
      "metadata": {
        "id": "kYqa2Cf0Jlre"
      },
      "execution_count": null,
      "outputs": []
    }
  ]
}